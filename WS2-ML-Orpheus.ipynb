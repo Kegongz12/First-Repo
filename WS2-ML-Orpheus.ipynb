{
 "cells": [
  {
   "cell_type": "markdown",
   "metadata": {},
   "source": [
    "<font color='red'>**Report Submission Information (must be completed before submitting report!)**</font>\n",
    "* Student 1 Full Name and Number : Kegong Zhong 750425\n",
    "* Student 2 Full Name and Number : \n",
    "* Workshop day : Wednesday\n",
    "* Workshop time : 6:15pm"
   ]
  },
  {
   "cell_type": "markdown",
   "metadata": {},
   "source": [
    "# <font color='blue'> Workshop 2 – Machine Learning (ML) [2 weeks] </font>\n",
    "\n",
    "## Objectives:\n",
    "\n",
    "* Gain hands-on experience with basic machine learning paradigms.\n",
    "* Familiarise yourself with some of the practical software tools used for machine learning.\n",
    "* Solve basic machine learning problems using Python Scipy and Scikit-learn.\n",
    "* Connect theoretical knowledge and practical usage by doing it yourself.\n",
    "\n",
    "> __Common objectives of all workshops:__\n",
    "> Gain hands-on experience and learn by doing! Understand how theoretical knowledge discussed in lectures relates to practice. Develop motivation for gaining further theoretical and practical knowledge beyond the subject material.\n",
    "\n",
    "## Overview:\n",
    "Optimisation is widely used in engineering (practice and research) today. That was not always so (see e.g. Boyd's book's preface). I expect that in the future machine learning will be as prevalently used in engineering as optimisation is used today. The arguments in favour of it are (a) increasingly more powerful computing (b) lots of data (c) decreasing storage and computing costs. At the end of the day, \"machine learning\" benefits substantially from these trends. However, it is still early days and we will hopefully see together how engineering world will evolve in this century.\n",
    "\n",
    "In this workshop, you will learn how to solve machine learning problems in practice and apply common algorithms to various data sets. Doing this yourself will give you a chance to connect theoretical knowledge and practical usage. We will start with simple, easy-to-visualise (2D) data sets so that concepts become clear. More interesting problems and data will be posed as open-ended (and optional) problems.\n",
    "\n",
    "You will also familiarise yourself with machine learning libraries of Python, which is the de-facto language for ML these days. Still, the tools and data are chosen completely for educational reasons (simplicity, accessibility, cost). There are and will be better ML frameworks and more complex data sets but it is not realistic to cover all in two weeks. Due to time limitations, we unfortunately do not focus on a big topic in this workshop and subject: [data science](https://study.unimelb.edu.au/find/courses/graduate/master-of-data-science/what-will-i-study/). You should not get the wrong impression from the nice, cleaned-up data sets you are given in this workshop. In real life, data is messy (as everything else!) and more than half of data science is about preparing data itself. \n",
    "\n",
    "> In the future, you should consider learning additional ML software packages and libraries. Finding the right tool for the right job is an important skill obtained through knowledge and experience. I would also recommend learning more about data preparation and analysis. The popular [Pandas](https://pandas.pydata.org/) library, which we briefly use, makes a good starting point."
   ]
  },
  {
   "cell_type": "markdown",
   "metadata": {
    "collapsed": true
   },
   "source": [
    "## Workshop Preparation: [before you arrive to the lab]\n",
    "\n",
    "You can come to the workshops as you are or you can prepare beforehand to learn much more! \n",
    "We will give you a lot of time to finish the tasks but those are the bare minimums. Just like in the lectures, the topics we cover in the workshops are quite deep and we can only do so much in two hours. There is much more to learn and coming prepared to the workshop is one of the best ways to gain more knowledge! For example, there are a few questions in each workshop which you can answer beforehand.\n",
    "\n",
    "> __Self-learning__ is one of the most important skills that you should acquire as a student. Today, self-learning is much easier than it used to be thanks to a plethora of online resources.\n",
    "For this workshop, start by exploring the resource mentioned in the preparation steps below.\n",
    "\n",
    "### Workshop Preparation Steps:\n",
    "\n",
    "1. Common step for all workshops: read the Workshop Manual (Jupyter Notebook) beforehand!\n",
    "2. Review relevant lecture slides on machine learning.\n",
    "3. Read/check relevant reading material and links from LMS/Resources-Reading\n",
    "4. Check the embedded links below hints and background.\n",
    "5. _\\[optional\\]_ _You can start with workshop tasks and questions_\n",
    "\n",
    "### Additional packages to install\n",
    "\n",
    "In this workshop, we will use the [_Regressors_](https://regressors.readthedocs.io/en/latest/) package for convenience for couple of minor things. You can [install the package](https://regressors.readthedocs.io/en/latest/installation.html) simply by using\n",
    "\n",
    "```pip install regressors``` \n",
    "\n",
    "from within the Anaconda environment. Ask for help from your demonstrator in case you need it.\n",
    "\n",
    "\n",
    "\n",
    "## Tasks and Questions:\n",
    "\n",
    "Follow the procedures described below, perform the given tasks and answer the workshop questions __on the Python notebook itself!__ The marks associated with each question are clearly stated. Keep your answers to the point and complete to get full marks! Ensure that your code is clean and appropriately commented. \n",
    "\n",
    "__The resulting notebook will be your Workshop Report!__\n",
    "\n",
    "> __The goal is to learn__, NOT blindly follow the procedures in the fastest possible way! __Do not simply copy-paste answers (from Internet, friends, etc.). You can and should use all available resources but only to develop your own understanding. If you copy-paste, you will pay the price in the final exam!__"
   ]
  },
  {
   "cell_type": "markdown",
   "metadata": {
    "collapsed": true
   },
   "source": [
    "# Section 1: Linear Regression, Overfitting, and Regularisation"
   ]
  },
  {
   "cell_type": "markdown",
   "metadata": {},
   "source": [
    "## 1.1 _Example_. Using curve fitting to model Diode characteristics.\n",
    "\n",
    "![Diode characteristic](img/diode.png)\n",
    "\n",
    "The diagram above shows the I-V curve of a [diode](https://en.wikipedia.org/wiki/Diode) widely used in electronic circuits, see [1N4001-D spec sheet (right click to download)](1N4001-D.pdf).\n",
    "\n",
    "We can use regression to model the I-V curve of this diode at 25 degrees C. \n",
    "\n",
    "Using the nice tool, [WebPlotDigitizer](https://automeris.io/WebPlotDigitizer/), a small and clean data set is generated and stored in [csv format](https://en.wikipedia.org/wiki/Comma-separated_values). We now use the famous [pandas library](https://pandas.pydata.org/) to read the *csv* file."
   ]
  },
  {
   "cell_type": "code",
   "execution_count": null,
   "metadata": {
    "ExecuteTime": {
     "end_time": "2019-03-25T02:45:10.911242Z",
     "start_time": "2019-03-25T02:45:10.388090Z"
    },
    "collapsed": true
   },
   "outputs": [],
   "source": [
    "%matplotlib notebook\n",
    "import pandas as pd\n",
    "import numpy as np\n",
    "from scipy import optimize\n",
    "import matplotlib.pyplot as plt\n",
    "\n",
    "dataset=pd.read_csv('files/diode_dataset.csv', names=['Vf', 'If'])\n",
    "# Note that if you don't put names to csv or into the function as above, \n",
    "# pandas ignores the first row in calculations!\n",
    "dataset.head()"
   ]
  },
  {
   "cell_type": "code",
   "execution_count": null,
   "metadata": {
    "ExecuteTime": {
     "end_time": "2019-03-25T02:45:10.989815Z",
     "start_time": "2019-03-25T02:45:10.965563Z"
    },
    "collapsed": true
   },
   "outputs": [],
   "source": [
    "plt.figure()\n",
    "plt.plot(dataset.values[:,0], dataset.values[:,1])\n",
    "plt.xlabel('Voltage, V')\n",
    "plt.ylabel('Current, I')\n",
    "plt.title('Diode I-V')\n",
    "plt.grid()\n",
    "plt.show()"
   ]
  },
  {
   "cell_type": "markdown",
   "metadata": {},
   "source": [
    "_Note that the figure above is convex but the one above was looking concave! Can you see why?_\n",
    "\n",
    "\n",
    "Because the y axies is not equally distributed in datasheet, while the generative plot is equally distributed."
   ]
  },
  {
   "cell_type": "markdown",
   "metadata": {},
   "source": [
    "### Question 1.1 (2 pts).\n",
    "\n",
    "Let $I=f(V)=a+bV$, for $a, b \\in \\mathbb{R}$.\n",
    "Find the best $(a, b)$ to minimise the error between the $N$ data points $(I_j, V_j)$ and the chosen linear model. \n",
    "\n",
    "$$\\min_{a, b} \\sum_{j=1}^N (I_j- (a + b V_j))^2 $$\n",
    "\n",
    "1. (1 pts) Find the $a, b$ by solving the unconstrained optimisation problem above symbolically and by hand. Then, using the given data set $\\{I, V\\}$ and formulas you have derived, find the values of $a, b$ directly.\n",
    "2. (1 pt) Plot the linear I-V curve you have found with the additional constraint $I \\geq 0$ or $\\max(I, 0)$."
   ]
  },
  {
   "cell_type": "markdown",
   "metadata": {},
   "source": [
    "1.$$b^{*} =\\frac{1}{N}\\sum_{j=0}^{N-1}\\frac{I_{j+1}-I_{j}}{V_{j+1}-V_{j}}$$\n",
    "$$a^{*} =\\frac{1}{N}\\sum_{j=1}^{N}I_{j}-b^{*}V_{j}$$\n",
    "\n"
   ]
  },
  {
   "cell_type": "code",
   "execution_count": null,
   "metadata": {
    "collapsed": true,
    "scrolled": true
   },
   "outputs": [],
   "source": [
    "import pandas as pd\n",
    "import numpy as np\n",
    "from scipy import optimize\n",
    "import matplotlib.pyplot as plt\n",
    "import matplotlib\n",
    "\n",
    "dataset=pd.read_csv('files/diode_dataset.csv', names=['Vf', 'If'])\n",
    "# Note that if you don't put names to csv or into the function as above, \n",
    "# pandas ignores the first row in calculations!\n",
    "\n",
    "def col2array(obj):\n",
    "    temp1 = list(obj)\n",
    "    vf_list = []\n",
    "    for i in range (len(temp1)-1):\n",
    "        vf_list.append(float(temp1[i+1]))    \n",
    "        \n",
    "    vf_array = np.array(vf_list)\n",
    "    return vf_array\n",
    "\n",
    "v = col2array(dataset.Vf)\n",
    "i = col2array(dataset.If)\n",
    "\n",
    "b = np.gradient(i,v)\n",
    "bprime = sum(b)/len(b)\n",
    "aprime = i.mean() - bprime * v.mean()\n",
    "#find the non-negative value of I and coresponding V\n",
    "i_2 = aprime + bprime * v\n",
    "v_2 = (i_2[i_2>=0]-aprime)/bprime\n",
    "\n",
    "plt.figure()\n",
    "plt.scatter(v,i)\n",
    "plt.plot(v_2,i_2[i_2>=0])\n",
    "plt.xlabel('Voltage, V')\n",
    "plt.ylabel('Current, I')\n",
    "plt.title('Diode I-V')\n",
    "plt.grid()\n",
    "plt.show()"
   ]
  },
  {
   "cell_type": "markdown",
   "metadata": {},
   "source": [
    "### Question 1.2 (8 pts)\n",
    "\n",
    "Now we will use *sklearn (scikit-learn)* to solve this problem.\n",
    "\n",
    "1. First fit a [linear model](https://scikit-learn.org/stable/modules/linear_model.html) using \"linear_model.LinearRegression()\". Plot the result, find the coefficients, and calculate the mean square error (MSE).\n",
    "2. Next fit a [polynomial model](https://scikit-learn.org/stable/modules/linear_model.html#polynomial-regression-extending-linear-models-with-basis-functions) of second degree, i.e. a quadratic model. Plot the model, find the coefficients, and calculate MSE. Interpret and discuss the results.\n",
    "3. Add a regularisation term, i.e use [ridge regression](https://scikit-learn.org/stable/modules/linear_model.html#ridge-regression). Do you observe an improvement? Discuss.\n",
    "4. Try couple of higher order models (e.g. 4, 6) without regularisation, and provide the results as before. What do you observe when you compare the coefficients? Find validation and training errors for the models and discuss/interpret your results.\n",
    "\n",
    "#### Hints\n",
    "1. you will need to use [pipelines](https://scikit-learn.org/stable/modules/compose.html#pipeline). To access coefficients use model.named_steps['linearregression'].coef_  or model.named_steps['ridge'].coef_\n",
    "2. the train_test_split function provides a very convenient way of shuffling the data and dividing it into  training and test sets (3:1 default ratio), see https://scikit-learn.org/stable/modules/generated/sklearn.model_selection.train_test_split.html\n"
   ]
  },
  {
   "cell_type": "code",
   "execution_count": null,
   "metadata": {
    "ExecuteTime": {
     "end_time": "2019-03-25T02:45:20.091506Z",
     "start_time": "2019-03-25T02:45:19.845232Z"
    },
    "collapsed": true
   },
   "outputs": [],
   "source": [
    "from sklearn import linear_model\n",
    "from sklearn.metrics import mean_squared_error\n",
    "from sklearn.linear_model import Ridge\n",
    "from sklearn.preprocessing import PolynomialFeatures\n",
    "from sklearn.pipeline import make_pipeline\n",
    "from sklearn.model_selection import train_test_split\n",
    "\n",
    "# full data in correct form for sklearn\n",
    "Vfulldata = np.array(dataset.values[:,0]).reshape(-1,1) # reshape needed for sklearn functions\n",
    "Ifulldata = np.array(dataset.values[:,1]).reshape(-1,1)\n",
    "\n",
    "# split into training and test sets\n",
    "Vtrain, Vtest, Itrain, Itest = train_test_split(Vfulldata, Ifulldata)\n"
   ]
  },
  {
   "cell_type": "markdown",
   "metadata": {},
   "source": [
    "**Q1.2.1**"
   ]
  },
  {
   "cell_type": "code",
   "execution_count": null,
   "metadata": {
    "collapsed": true,
    "scrolled": false
   },
   "outputs": [],
   "source": [
    "#Linear Model Regression with coefficients and MSE: \n",
    "#Create linear regression object\n",
    "\n",
    "reg = linear_model.LinearRegression()\n",
    "# Train model using the training sets\n",
    "reg.fit(Vtrain,Itrain)\n",
    "# Make predictions using the testing set\n",
    "Ipredict = reg.predict(Vtest)\n",
    "print(Ipredict)\n",
    "MSE = mean_squared_error(Itest, Ipredict)\n",
    "print('Regulation coefficient is %s' %(reg.coef_))\n",
    "print('The Mean Square Error(MSE) of model is %s'%(MSE))\n",
    "\n",
    "\n",
    "plt.figure()\n",
    "plt.scatter(dataset.values[:,0], dataset.values[:,1])\n",
    "plt.plot(Vtest,Ipredict,color ='black')\n",
    "plt.xlabel('Voltage, V')\n",
    "plt.ylabel('Current, I')\n",
    "plt.title('Diode I-V')\n",
    "plt.grid()\n",
    "plt.show()"
   ]
  },
  {
   "cell_type": "markdown",
   "metadata": {},
   "source": [
    "**Q1.2.2**"
   ]
  },
  {
   "cell_type": "code",
   "execution_count": null,
   "metadata": {
    "collapsed": true
   },
   "outputs": [],
   "source": [
    "#Fit in a Second Order Polynomial Model\n",
    "#combine linear regression model to :\n",
    "model = make_pipeline(PolynomialFeatures(),linear_model.LinearRegression())\n",
    "model.fit(Vtrain,Itrain)\n",
    "_LR = model.named_steps['linearregression']\n",
    "I_pred_2order = model.predict(Vtest)\n",
    "MSE = mean_squared_error(Itest,I_pred_2order)\n",
    "print ('The coefficients is %s, and intercepts is.'%(_LR.coef_),(_LR.intercept_))\n",
    "print ('The mean square error of model is %s.'%(MSE))\n",
    "\n",
    "x_func = np.linspace(0.8,1,100)\n",
    "y_func = _LR.intercept_+_LR.coef_[0][1]*x_func+np.power(x_func,2)*_LR.coef_[0][2]\n",
    "\n",
    "plt.figure()\n",
    "plt.scatter(dataset.values[:,0], dataset.values[:,1],color = 'lightblue',label = 'Raw_data')\n",
    "plt.plot(x_func,y_func, color ='teal', linewidth = 2, label = 'Generitive model(polynomial)')\n",
    "plt.legend(loc='lower right')\n",
    "plt.show()"
   ]
  },
  {
   "cell_type": "markdown",
   "metadata": {},
   "source": [
    "**Q1.2.3**"
   ]
  },
  {
   "cell_type": "code",
   "execution_count": null,
   "metadata": {
    "collapsed": true
   },
   "outputs": [],
   "source": [
    "#use cross validation of the training sets to find the proper alpha on Ridge Regression\n",
    "Alpha = np.linspace(0,1,100)\n",
    "_ridgeReg = make_pipeline(PolynomialFeatures(),linear_model.RidgeCV(alphas = Alpha,cv = 18))\n",
    "# cross validate the alpha to find the optimum\n",
    "# when set alpha to 0, it will become a quadratic model which fit the data\n",
    "\n",
    "_ridgeReg.fit(Vtrain,Itrain)\n",
    "ridge_coef_ = _ridgeReg.named_steps['ridgecv'].coef_\n",
    "ridge_x0 = _ridgeReg.named_steps['ridgecv'].intercept_\n",
    "ridge_alpha =_ridgeReg.named_steps['ridgecv'].alpha_\n",
    "print('coefficient = %s intercept = %s, Alpha = %s.' %((ridge_coef_),(ridge_x0),(ridge_alpha)))\n",
    "\n",
    "x_ridge = np.linspace(0.8,1,100)\n",
    "      \n",
    "def f(x):\n",
    "    return ridge_x0+ridge_coef_[0][1]*x_ridge+np.power(x_ridge,2)*ridge_coef_[0][2]\n",
    "\n",
    "y_ridge = f(x_ridge)\n",
    "\n",
    "plt.figure()\n",
    "plt.plot(x_ridge,y_ridge)\n",
    "plt.scatter(dataset.values[:,0], dataset.values[:,1])\n",
    "plt.legend\n",
    "plt.show()"
   ]
  },
  {
   "cell_type": "markdown",
   "metadata": {},
   "source": [
    "**Q1.2.4**"
   ]
  },
  {
   "cell_type": "code",
   "execution_count": null,
   "metadata": {
    "collapsed": true
   },
   "outputs": [],
   "source": [
    "from sklearn.linear_model import LinearRegression\n",
    "from sklearn.linear_model import RidgeCV\n",
    "\n",
    "Alpha = np.linspace(0,1,100)\n",
    "_ridgeReg = make_pipeline(PolynomialFeatures(degree = 5),linear_model.RidgeCV(alphas = Alpha,cv = 18))\n",
    "\n",
    "# when set alpha criteria \n",
    "_ridgeReg.fit(Vtrain,Itrain)\n",
    "print('the alpha is chosen %s'%(_ridgeReg.named_steps['ridgecv'].alpha_))\n",
    "\n",
    "# 5th order polynomail equation Ridge Regression without regulator\n",
    "_ridgeReg_5th=make_pipeline(PolynomialFeatures(degree = 5),LinearRegression())\n",
    "_ridgeReg_5th.fit(Vtrain,Itrain)\n",
    "coef_5th = _ridgeReg_5th.named_steps['linearregression'].coef_\n",
    "intercept_5th = _ridgeReg_5th.named_steps['linearregression'].intercept_\n",
    "#build the generitive function\n",
    "v = np.linspace(0.8,1.1,100)\n",
    "v_m = [np.power(v,0), np.power(v,1),np.power(v,2),np.power(v,3),np.power(v,4),np.power(v,5)]\n",
    "y_m = np.array(np.matrix(coef_5th[0])*v_m+intercept_5th)\n",
    "#Plot out the function\n",
    "plt.figure()\n",
    "plt.scatter(v,y_m,s =2,color='teal',label = '5th Polynomial' )\n",
    "plt.scatter(dataset.values[:,0], dataset.values[:,1],label = 'Raw Data')\n",
    "plt.legend(loc = 0)\n",
    "plt.show()\n"
   ]
  },
  {
   "cell_type": "markdown",
   "metadata": {},
   "source": [
    "# Section 2: Clustering and Gaussian Mixtures"
   ]
  },
  {
   "cell_type": "markdown",
   "metadata": {},
   "source": [
    "Unsupervised learning is all about data. We will use first the famous two moon data set to practice a little bit and digest some of the fundemental concepts. Since two moons data inherently has two clusters (each moon as a cluster), we can use this as a [ground truth](https://en.wikipedia.org/wiki/Ground_truth). In most real problems, we don't have this luxury of having the ground truth at hand! "
   ]
  },
  {
   "cell_type": "code",
   "execution_count": 2,
   "metadata": {
    "ExecuteTime": {
     "end_time": "2019-03-25T02:45:35.973271Z",
     "start_time": "2019-03-25T02:45:35.902585Z"
    }
   },
   "outputs": [
    {
     "data": {
      "text/plain": [
       "<Figure size 640x480 with 1 Axes>"
      ]
     },
     "metadata": {},
     "output_type": "display_data"
    }
   ],
   "source": [
    "import numpy as np\n",
    "import matplotlib.pyplot as plt\n",
    "from sklearn import cluster, datasets, mixture\n",
    "from sklearn.cluster import KMeans\n",
    "from sklearn.utils import shuffle\n",
    "from sklearn import decomposition\n",
    "from sklearn.mixture import GaussianMixture\n",
    "from sklearn import metrics\n",
    "\n",
    "\n",
    "noisy_moons = datasets.make_moons(n_samples=200, noise=0.05)\n",
    "\n",
    "X = noisy_moons[0] # data points\n",
    "y = noisy_moons[1] # 0, 1 labels of class, 50 each - giving us the ground truth\n",
    "\n",
    "order_ind = np.argsort(y) # order labels, 50 each class\n",
    "X1 = X[order_ind[0:100]]   # class 1\n",
    "X2 = X[order_ind[101:200]] # class 2\n",
    "\n",
    "# Plot data\n",
    "plt.figure()\n",
    "plt.scatter(X1[:,0], X1[:,1], color='black')\n",
    "plt.scatter(X2[:,0], X2[:,1], color='red')\n",
    "plt.show()"
   ]
  },
  {
   "cell_type": "markdown",
   "metadata": {},
   "source": [
    "### Question 2.1.  K-means clustering (4 pts)\n",
    "\n",
    "1. Use sklearn (scikit-learn) k-means clustering algorithm to divide the two moon data given above (X) into two clusters. Plot the result and show the cluster centres that you found.\n",
    "2. Experiment with different starting points (init='random') and number of clusters, e.g. 3, 4, 5. Write your observations and interpret them using your theoretical knowledge from lectures and books."
   ]
  },
  {
   "cell_type": "code",
   "execution_count": 3,
   "metadata": {},
   "outputs": [
    {
     "name": "stdout",
     "output_type": "stream",
     "text": [
      "[[ 1.23327795]\n",
      " [-0.17325941]]\n"
     ]
    },
    {
     "data": {
      "image/png": "[encoded data removed]",
      "text/plain": [
       "<Figure size 432x288 with 3 Axes>"
      ]
     },
     "metadata": {
      "needs_background": "light"
     },
     "output_type": "display_data"
    }
   ],
   "source": [
    "#Question 2.1.1\n",
    "import numpy as np\n",
    "#2 means clusters\n",
    "_2means = KMeans(n_clusters=2,init = 'random',random_state=0).fit(noisy_moons[0])\n",
    "# divide label into 2 groups\n",
    "\n",
    "X_2,Y_2 = (noisy_moons[0],_2means.labels_) # data points\n",
    "order_ind = np.argsort(Y_2) # order labels, 100 each class\n",
    "\n",
    "X_2p1 = X_2[order_ind[0:100]]   # class 1\n",
    "X_2p2 = X_2[order_ind[101:200]] # class 2\n",
    "X_2center,Y_2center = np.hsplit(_2means.cluster_centers_,2)\n",
    "\n",
    "print(X_2center)\n",
    "# 4means clusters\n",
    "_4means = KMeans(n_clusters=4,init = 'random',random_state=0).fit(noisy_moons[0])\n",
    "X_4,Y_4 = (noisy_moons[0],_4means.labels_) # data points\n",
    "order_ind = np.argsort(Y_4) # order labels, 50 each class\n",
    "\n",
    "X_4p1 = X_4[order_ind[0:50]]   # class 1\n",
    "X_4p2 = X_4[order_ind[51:100]] # class 2\n",
    "X_4p3 = X_4[order_ind[101:150]] # class 3\n",
    "X_4p4 = X_4[order_ind[151:200]] # class 4\n",
    "X_4center,Y_4center = np.hsplit(_4means.cluster_centers_,2)\n",
    "\n",
    "# 5 means clusters\n",
    "_5means = KMeans(n_clusters=5,init = 'random',random_state=0).fit(noisy_moons[0])\n",
    "X_5,Y_5 = (noisy_moons[0],_5means.labels_) # data points\n",
    "order_ind = np.argsort(Y_5) # order labels, 50 each class\n",
    "\n",
    "X_5p1 = X_5[order_ind[0:40]]   # class 1\n",
    "X_5p2 = X_5[order_ind[41:80]] # class 2\n",
    "X_5p3 = X_5[order_ind[81:120]] # class 3\n",
    "X_5p4 = X_5[order_ind[121:160]] # class 4\n",
    "X_5p5 = X_5[order_ind[161:200]] # class 5\n",
    "X_5center,Y_5center = np.hsplit(_5means.cluster_centers_,2)\n",
    "\n",
    "\n",
    "\n",
    "\n",
    "# Plot data\n",
    "plt.figure()\n",
    "\n",
    "plt.subplot(3,1,1)\n",
    "plt.scatter(X_2p1[:,0], X_2p1[:,1],color = 'lightblue')\n",
    "plt.scatter(X_2p2[:,0], X_2p2[:,1],color = 'red')\n",
    "plt.scatter(X_2center,Y_2center,s = 90)\n",
    "\n",
    "#cluster center\n",
    "\n",
    "plt.subplot(3,1,2)\n",
    "plt.scatter(X_4p1[:,0], X_4p1[:,1],color = 'black')\n",
    "plt.scatter(X_4p2[:,0], X_4p2[:,1],color = 'grey')\n",
    "plt.scatter(X_4p3[:,0], X_4p3[:,1],color = 'green')\n",
    "plt.scatter(X_4p4[:,0], X_4p4[:,1],color = 'orange')\n",
    "plt.scatter(X_4center,Y_4center,s = 90)\n",
    "\n",
    "\n",
    "plt.subplot(3,1,3)\n",
    "plt.scatter(X_5p1[:,0], X_5p1[:,1],color = 'black')\n",
    "plt.scatter(X_5p2[:,0], X_5p2[:,1],color = 'grey')\n",
    "plt.scatter(X_5p3[:,0], X_5p3[:,1],color = 'green')\n",
    "plt.scatter(X_5p4[:,0], X_5p4[:,1],color = 'orange')\n",
    "plt.scatter(X_5p5[:,0], X_5p5[:,1],color = 'yellow')\n",
    "plt.scatter(X_5center,Y_5center,s = 90)\n",
    "\n",
    "plt.show()"
   ]
  },
  {
   "cell_type": "markdown",
   "metadata": {},
   "source": [
    "**Answer as text here**"
   ]
  },
  {
   "cell_type": "markdown",
   "metadata": {},
   "source": [
    "### Question 2.2.  GMM as density estimator (6 pts)\n",
    "\n",
    "1. Now use a Gaussian mixture model (GMM) for clustering the same two moon data. Try two clusters and plot your results. GMMs also provides you probabilities (of a sample belonging to a cluster). Print those of a few samples.\n",
    "2. Increase the number of components of your GMM model. What do you observe? Use a metric to choose the number of components in a principled way. *Hint: check [BIC](https://en.wikipedia.org/wiki/Bayesian_information_criterion) or [AIC](https://en.wikipedia.org/wiki/Akaike_information_criterion) *\n",
    "3. It is maybe better to use GMM as a **generative model**! Generate 200 brand new samples from a well functioning gmm model with your choice of parameters and plot your results.\n"
   ]
  },
  {
   "cell_type": "code",
   "execution_count": null,
   "metadata": {
    "collapsed": true
   },
   "outputs": [],
   "source": [
    "#Q2.2.2\n",
    "\n",
    "from sklearn.mixture import GaussianMixture\n",
    "_4_GMM = GaussianMixture(n_components = 4)\n",
    "X_4GMM,Y_4GMM = (noisy_moons[0],_4_GMM.fit(noisy_moons[0]).predict(noisy_moons[0]))\n",
    "\n",
    "order_ind = np.argsort(Y_4GMM) # order labels, 50 each class\n",
    "\n",
    "X_GMp1 = X_4GMM[order_ind[0:50]]   # class 1\n",
    "X_GMp2 = X_4GMM[order_ind[51:100]]   # class 2\n",
    "X_GMp3 = X_4GMM[order_ind[101:150]] # class 3\n",
    "X_GMp4 = X_4GMM[order_ind[151:200]] # class 4\n",
    "\n",
    "\n",
    "plt.figure()\n",
    "plt.scatter(X_GMp1[:,0], X_GMp1[:,1],color = 'lightblue')\n",
    "plt.scatter(X_GMp2[:,0], X_GMp2[:,1],color = 'red')\n",
    "plt.scatter(X_GMp3[:,0], X_GMp3[:,1],color = 'green')\n",
    "plt.scatter(X_GMp4[:,0], X_GMp4[:,1],color = 'grey')\n",
    "\n",
    "plt.show()"
   ]
  },
  {
   "cell_type": "code",
   "execution_count": null,
   "metadata": {
    "collapsed": true
   },
   "outputs": [],
   "source": [
    "n = np.linspace(5,15,1000)\n",
    "y = []\n",
    "\n",
    "# for i in n:\n",
    "#     y = y.append(GaussianMixture(n_components = i)\n",
    "#                  .fit(noisy_moons[0]).bic(noisy_moons[0]))\n",
    "    "
   ]
  },
  {
   "cell_type": "markdown",
   "metadata": {},
   "source": [
    "**Answer as text here**"
   ]
  },
  {
   "cell_type": "markdown",
   "metadata": {},
   "source": [
    "# Section 3: PCA and Simple Classification"
   ]
  },
  {
   "cell_type": "markdown",
   "metadata": {},
   "source": [
    "It is time to move beyond the toy data set. The next data set is still small and clean but is more interesting!\n",
    "\n",
    "## 3.1 _Example_. Wireless Indoor Localization\n",
    "\n",
    "The next data set shows the recorded signal strength from 7 different base stations at a smart phone. The phone is in one of the four rooms {1, 2, 3, 4}. The goal is to classify the location of the phone to one of the four rooms.\n",
    "\n",
    "This [dataset](http://archive.ics.uci.edu/ml/datasets/Wireless+Indoor+Localization) was used in the following publications:\n",
    "> * Jayant G Rohra, Boominathan Perumal, Swathi Jamjala Narayanan, Priya Thakur, and Rajen B Bhatt, 'User Localization in an Indoor Environment Using Fuzzy Hybrid of Particle Swarm Optimization & Gravitational Search Algorithm with Neural Networks', in Proceedings of Sixth International Conference on Soft Computing for Problem Solving,2017, pp. 286-295.\n",
    "> * Rajen Bhatt, 'Fuzzy-Rough Approaches for Pattern Classification: Hybrid measures, Mathematical analysis, Feature selection algorithms, Decision tree algorithms, Neural learning, and Applications', Amazon Books \n"
   ]
  },
  {
   "cell_type": "code",
   "execution_count": null,
   "metadata": {
    "ExecuteTime": {
     "end_time": "2019-03-25T02:45:54.195976Z",
     "start_time": "2019-03-25T02:45:54.181016Z"
    },
    "collapsed": true
   },
   "outputs": [],
   "source": [
    "import numpy as np\n",
    "\n",
    "dataw = pd.read_csv('files/wifi_localization.csv', names=[f\"s{i}\" for i in range(1, 8)] + ['Room Number'])\n",
    "dataw.head() # comment one to see the other\n",
    "dataw.tail()"
   ]
  },
  {
   "cell_type": "code",
   "execution_count": null,
   "metadata": {
    "ExecuteTime": {
     "end_time": "2019-03-25T02:45:54.710085Z",
     "start_time": "2019-03-25T02:45:54.706639Z"
    },
    "collapsed": true
   },
   "outputs": [],
   "source": [
    "print(dataw.size, dataw.shape)"
   ]
  },
  {
   "cell_type": "code",
   "execution_count": null,
   "metadata": {
    "ExecuteTime": {
     "end_time": "2019-03-25T02:45:55.442176Z",
     "start_time": "2019-03-25T02:45:55.430298Z"
    },
    "collapsed": true
   },
   "outputs": [],
   "source": [
    "SRI = dataw.iloc[:,:7]\n",
    "# a.shape\n",
    "loc = dataw.iloc[:,7]-1\n",
    "# loc.shape\n",
    "\n",
    "# split into training and test sets\n",
    "SRItrain, SRItest, loctrain, loctest = train_test_split(SRI, loc)\n",
    "print(loctest)"
   ]
  },
  {
   "cell_type": "markdown",
   "metadata": {},
   "source": [
    "### Question 3.1.  Clustering-based classification (6 pts)\n",
    "\n",
    "1.  (2 pts) Use Kmeans clustering on training data to find the 4 cluster corresponding to the rooms. Then, test their quality using a [mutual information based score.](https://scikit-learn.org/stable/modules/clustering.html#mutual-information-based-scores) \n",
    "2.  (2 pts) Conduct a [PCA analysis](https://scikit-learn.org/stable/modules/generated/sklearn.decomposition.PCA.html) on the data with 2, 3, 4 features: find singular values, variance ratios, and plot in 2D or 3D (for 2 or 3 features). What is the number of features that balances information and complexity? Is there redundancy in data? Discuss.\n",
    "3. (1 pt) Now, repeat Kmeans clustering with the PCA-transformed data. Do you see an improvement in scores? Why or why not? Discuss, based on your knowledge of PCA and Kmeans clustering. \n",
    "4. (1 pt) What information does Kmeans ignore when used for classification? Is what we do a good classification method? What can you say about the complexity of the problem given?"
   ]
  },
  {
   "cell_type": "code",
   "execution_count": null,
   "metadata": {
    "collapsed": true
   },
   "outputs": [],
   "source": [
    "#Q3.1.1#\n",
    "_4cluster = KMeans(n_clusters=4,init = 'random',random_state=0).fit(SRItrain,loctrain)\n",
    "metrics.adjusted_mutual_info_score(loctrain, _4cluster.labels_)"
   ]
  },
  {
   "cell_type": "code",
   "execution_count": null,
   "metadata": {
    "collapsed": true
   },
   "outputs": [],
   "source": [
    "#Q3.1.2#\n",
    "from sklearn.decomposition import PCA\n",
    "import matplotlib.pyplot as plt\n",
    "from mpl_toolkits.mplot3d import Axes3D\n",
    "i = 2\n",
    "for i in [2,3,4]:\n",
    "    pca= PCA(n_components = i).fit(SRItrain,loctrain)\n",
    "    _sigVal = pca.singular_values_\n",
    "    _varRatio = pca.explained_variance_ratio_ \n",
    "    print('\\nThe feature is %2s, \\nsingular value array: %2s,\\nexplained variance ratio is %2s.'%(i,_sigVal,_varRatio))\n",
    "    if i == 2:\n",
    "        x_2d = pca.fit_transform(SRItest)\n",
    "        \n",
    "        plt.figure(1)\n",
    "        plt.clf()\n",
    "        # Plot the training points\n",
    "        plt.scatter(x_2d[:,0], x_2d[:,1], c = loctest)\n",
    "    elif i == 3:\n",
    "        fig = plt.figure(2)\n",
    "        ax = Axes3D(fig)\n",
    "        x_3d = pca.fit_transform(SRItest)\n",
    "        ax.scatter(x_3d[:, 0], x_3d[:, 1], x_3d[:, 2], c=loctest)\n",
    "    else:\n",
    "        i=i+1 \n",
    "plt.show()"
   ]
  },
  {
   "cell_type": "markdown",
   "metadata": {},
   "source": [
    "**The bias and variance are both getting low, the system needs more feature to optimize.**"
   ]
  },
  {
   "cell_type": "markdown",
   "metadata": {},
   "source": [
    "# Section 4: Support Vector Machines (SVMs)"
   ]
  },
  {
   "cell_type": "markdown",
   "metadata": {},
   "source": [
    "We have covered the theory of [SVMs](https://en.wikipedia.org/wiki/Support-vector_machine) during the lectures. It is now time to see SVMs in action! It is appropriate to start with a noisy moon data set. We will use [sklearn.svm](https://scikit-learn.org/stable/modules/svm.html) library."
   ]
  },
  {
   "cell_type": "code",
   "execution_count": 6,
   "metadata": {
    "ExecuteTime": {
     "end_time": "2019-03-25T02:46:11.878238Z",
     "start_time": "2019-03-25T02:46:11.842928Z"
    }
   },
   "outputs": [
    {
     "data": {
      "image/png": "[encoded data removed]",
      "text/plain": [
       "<matplotlib.figure.Figure at 0x8dc45d0>"
      ]
     },
     "metadata": {},
     "output_type": "display_data"
    }
   ],
   "source": [
    "import matplotlib.pyplot as plt\n",
    "import numpy as np\n",
    "from sklearn import svm,cluster, datasets, mixture\n",
    "from sklearn.model_selection import GridSearchCV\n",
    "from sklearn import preprocessing\n",
    "from sklearn import metrics\n",
    "\n",
    "# helper function to visualise decision boundary, uses the svm model as input\n",
    "def plot_svc_decision_function(model, ax=None, plot_support=True):\n",
    "    \"\"\"Plot the decision function for a 2D SVC\"\"\"\n",
    "    if ax is None:\n",
    "        ax = plt.gca()\n",
    "    xlim = ax.get_xlim()\n",
    "    ylim = ax.get_ylim()\n",
    "    \n",
    "    # create grid to evaluate model\n",
    "    x = np.linspace(xlim[0], xlim[1], 30)\n",
    "    y = np.linspace(ylim[0], ylim[1], 30)\n",
    "    Y, X = np.meshgrid(y, x)\n",
    "    xy = np.vstack([X.ravel(), Y.ravel()]).T\n",
    "    P = model.decision_function(xy).reshape(X.shape)\n",
    "    \n",
    "    # plot decision boundary and margins\n",
    "    ax.contour(X, Y, P, colors='k',\n",
    "               levels=[-1, 0, 1], alpha=0.5,\n",
    "               linestyles=['--', '-', '--'])\n",
    "    \n",
    "    # plot support vectors\n",
    "    if plot_support:\n",
    "        ax.scatter(model.support_vectors_[:, 0],\n",
    "                   model.support_vectors_[:, 1],\n",
    "                   s=300, linewidth=1, facecolors='none');\n",
    "    ax.set_xlim(xlim)\n",
    "    ax.set_ylim(ylim)\n",
    "\n",
    "\n",
    "# Create a new moons data set\n",
    "new_moons = datasets.make_moons(n_samples=400, noise=0.15)\n",
    "Xm = new_moons[0] # data points\n",
    "ym = new_moons[1] # 0, 1 labels of class, 200 each - giving us the ground truth\n",
    "\n",
    "# Visualise the data set\n",
    "order_ind = np.argsort(ym) # order labels, 200 each class\n",
    "Xm1 = Xm[order_ind[0:200]]   # class 1 - only for visualisation\n",
    "Xm2 = Xm[order_ind[201:400]] # class 2 - only for visualisation\n",
    "plt.figure()\n",
    "plt.scatter(Xm1[:,0], Xm1[:,1], color='black')\n",
    "plt.scatter(Xm2[:,0], Xm2[:,1], color='red')\n",
    "plt.show()"
   ]
  },
  {
   "cell_type": "markdown",
   "metadata": {},
   "source": [
    "### Question 4.1.  Binary SVM Classifiers (6 pts)\n",
    "\n",
    "First divide the data $(Xm,ym)$ to training and test sets using the default ratio. The range of data values is OK so you can skip data normalisation for this one.\n",
    "\n",
    "1. Try an [SVM classifier](https://scikit-learn.org/stable/modules/generated/sklearn.svm.SVC.html) with a linear kernel and different C parameters. Plot the test output and boundary. Discuss your observations and comment on linear separability of this data. Provide the precision, recall, and F-score metrics. *Hint: see [sklearn.metrics](https://scikit-learn.org/stable/modules/classes.html#module-sklearn.metrics), especially [classification_report](https://scikit-learn.org/stable/modules/generated/sklearn.metrics.classification_report.html#sklearn.metrics.classification_report)*\n",
    "2. Next, use an [RBF kernel](https://en.wikipedia.org/wiki/Radial_basis_function_kernel) and repeat the first part for different C and gamma parameters. Do you observe an improvement compared to linear version (both visually and in terms of scores)? Discuss your results.\n",
    "3. Perform a cross-validated grid-search over a parameter grid to find good C and gamma hyper-parameters. Plot the AUC ('mean_train_AUC') vs gamma for the best C. *Hint: check [GridSearchCV](https://scikit-learn.org/stable/auto_examples/model_selection/plot_multi_metric_evaluation.html#sphx-glr-auto-examples-model-selection-plot-multi-metric-evaluation-py) and [scoring parameter](https://scikit-learn.org/stable/modules/model_evaluation.html#scoring-parameter). Note that you should use semi-log plot!*"
   ]
  },
  {
   "cell_type": "code",
   "execution_count": 34,
   "metadata": {},
   "outputs": [
    {
     "name": "stdout",
     "output_type": "stream",
     "text": [
      "             precision    recall  f1-score   support\n",
      "\n",
      "          0       0.86      0.81      0.83        52\n",
      "          1       0.80      0.85      0.83        48\n",
      "\n",
      "avg / total       0.83      0.83      0.83       100\n",
      "\n"
     ]
    },
    {
     "data": {
      "image/png": "[encoded data removed]",
      "text/plain": [
       "<matplotlib.figure.Figure at 0x9298150>"
      ]
     },
     "metadata": {},
     "output_type": "display_data"
    }
   ],
   "source": [
    "#4.1.1\n",
    "from sklearn.model_selection import train_test_split\n",
    "from sklearn.svm import SVC\n",
    "Xm_train,Xm_test,ym_train,ym_test = train_test_split(Xm,ym)\n",
    "svc_lin = SVC(C = 0.1,kernel = 'linear').fit(Xm_train,ym_train)\n",
    "# print(svc.dual_coef_)\n",
    "ym_pred = svc_lin.predict(Xm_test)\n",
    "\n",
    "report_ = metrics.classification_report(ym_test,ym_pred)\n",
    "print(report_)\n",
    "\n",
    "order_index = np.argsort(ym_pred)\n",
    "Xm1_lin = Xm_test[order_index[0:47]]  #class 1\n",
    "Xm2_lin =Xm_test[order_index[48:100]] #class 2\n",
    "\n",
    "plt.figure()\n",
    "plt.scatter(Xm1_lin[:,0], Xm1_lin[:,1], color='black')\n",
    "plt.scatter(Xm2_lin[:,0], Xm2_lin[:,1], color='red')\n",
    "plt.show()"
   ]
  },
  {
   "cell_type": "markdown",
   "metadata": {},
   "source": [
    "**As C is larger, model is more distinct on the boundary therefore the optimization model is more precise. **"
   ]
  },
  {
   "cell_type": "code",
   "execution_count": 48,
   "metadata": {},
   "outputs": [
    {
     "name": "stdout",
     "output_type": "stream",
     "text": [
      "             precision    recall  f1-score   support\n",
      "\n",
      "          0       0.84      0.81      0.82        52\n",
      "          1       0.80      0.83      0.82        48\n",
      "\n",
      "avg / total       0.82      0.82      0.82       100\n",
      "\n"
     ]
    },
    {
     "data": {
      "image/png": "[encoded data removed]",
      "text/plain": [
       "<matplotlib.figure.Figure at 0x92e3330>"
      ]
     },
     "metadata": {},
     "output_type": "display_data"
    }
   ],
   "source": [
    "#4.1.2\n",
    "\n",
    "svc_rbf = SVC(C = 100,kernel = 'rbf').fit(Xm_train,ym_train)\n",
    "\n",
    "ym_pred = svc.predict(Xm_test)\n",
    "\n",
    "report_ = metrics.classification_report(ym_test,ym_pred)\n",
    "print(report_)\n",
    "\n",
    "order_index = np.argsort(ym_pred)\n",
    "Xm1_rbf = Xm_test[order_index[0:47]]  #class 1\n",
    "Xm2_rbf =Xm_test[order_index[48:100]] #class 2\n",
    "\n",
    "plt.figure()\n",
    "plt.scatter(Xm1_rbf[:,0], Xm1_rbf[:,1], color='black')\n",
    "plt.scatter(Xm2_rbf[:,0], Xm2_rbf[:,1], color='red')\n",
    "plt.show()"
   ]
  },
  {
   "cell_type": "markdown",
   "metadata": {},
   "source": [
    "**For the rbf, mean and variance will not change.**"
   ]
  },
  {
   "cell_type": "code",
   "execution_count": 49,
   "metadata": {
    "collapsed": true
   },
   "outputs": [],
   "source": [
    "#4.1.3\n",
    "from sklearn.model_selection import GridSearchCV\n",
    "GridSearchCV(scoring)"
   ]
  },
  {
   "cell_type": "markdown",
   "metadata": {},
   "source": [
    "# Section 5: Logistic Regression"
   ]
  },
  {
   "cell_type": "markdown",
   "metadata": {},
   "source": [
    "Logistic regression uses a linear statistical model. It measures the relationship between the categorical dependent variable and one or more independent variables by estimating probabilities using a logistic function. It is also used for classification. Let's start with a very simple example to **visualise the logistic function**."
   ]
  },
  {
   "cell_type": "code",
   "execution_count": 5,
   "metadata": {
    "ExecuteTime": {
     "end_time": "2019-03-25T02:46:46.161227Z",
     "start_time": "2019-03-25T02:46:46.135550Z"
    }
   },
   "outputs": [
    {
     "data": {
      "image/png": "[encoded data removed]",
      "text/plain": [
       "<Figure size 432x288 with 1 Axes>"
      ]
     },
     "metadata": {
      "needs_background": "light"
     },
     "output_type": "display_data"
    }
   ],
   "source": [
    "# Generate a toy dataset\n",
    "\n",
    "toy_samples = 50\n",
    "X_toy = np.linspace(-5, 5, toy_samples)\n",
    "Xtoy_test = np.linspace(-5, 5, 200)\n",
    "# gaussian noise added\n",
    "X_toy = X_toy + 2*np.random.normal(size=toy_samples)\n",
    "# upper, lower bound\n",
    "X_toy = np.clip(X_toy,-5, 5).reshape(-1,1)\n",
    "# create labels\n",
    "y_toy = ((np.sign(X_toy)+1)/2.0).ravel()\n",
    "# visualise\n",
    "plt.figure()\n",
    "plt.scatter(X_toy, y_toy)\n",
    "plt.show()"
   ]
  },
  {
   "cell_type": "markdown",
   "metadata": {},
   "source": [
    "### Question 5.1.  Simple Logistic Regression (LR) (2 pts)\n",
    "\n",
    "1. (1 pt) Fit a logistic and linear regression model to the data *(X_toy, y_toy)*. Find the logistic and linear model coefficients and bias *(trained_model.coef_, trained_model.intercept_)*. Hint: check [Sklearn logistic regression](https://scikit-learn.org/stable/modules/generated/sklearn.linear_model.LogisticRegression.html).\n",
    "2. (1 pts) Test your models on a simple test set {Xtoy_test} given above. Plot your results and discuss."
   ]
  },
  {
   "cell_type": "markdown",
   "metadata": {},
   "source": [
    "**Thanks**"
   ]
  },
  {
   "cell_type": "code",
   "execution_count": 6,
   "metadata": {},
   "outputs": [
    {
     "name": "stdout",
     "output_type": "stream",
     "text": [
      "Coefficient is [[1.52599707]], Bias is [0.40497357]\n"
     ]
    },
    {
     "name": "stderr",
     "output_type": "stream",
     "text": [
      "D:\\Python\\Anaconda\\lib\\site-packages\\sklearn\\linear_model\\logistic.py:433: FutureWarning: Default solver will be changed to 'lbfgs' in 0.22. Specify a solver to silence this warning.\n",
      "  FutureWarning)\n"
     ]
    },
    {
     "data": {
      "image/png": "[encoded data removed]",
      "text/plain": [
       "<Figure size 432x288 with 1 Axes>"
      ]
     },
     "metadata": {
      "needs_background": "light"
     },
     "output_type": "display_data"
    }
   ],
   "source": [
    "from sklearn.linear_model import LogisticRegression\n",
    "\n",
    "LR = LogisticRegression(C = 0.5).fit(X_toy,y_toy)\n",
    "print('Coefficient is %2s, Bias is %2s'%(LR.coef_,LR.intercept_))\n",
    "#transform with test data\n",
    "Xtoy_test=Xtoy_test.reshape(-1,1)\n",
    "ytoy_test = LR.predict(Xtoy_test)\n",
    "\n",
    "plt.figure()\n",
    "plt.scatter(Xtoy_test, ytoy_test,c='teal')\n",
    "plt.show()\n"
   ]
  },
  {
   "cell_type": "markdown",
   "metadata": {},
   "source": [
    "## 5.2 *Example*. Electrical Grid Stability with Simulated Data\n",
    "\n",
    "This simulated [dataset](http://archive.ics.uci.edu/ml/datasets/Electrical+Grid+Stability+Simulated+Data+) is related to local stability of a 4-node star system (electricity producer is in the center), which implements a decentralised Smart Grid Control concept. \n",
    "\n",
    ">Arzamasov, Vadim, Klemens Boehm, and Patrick Jochem. ['Towards Concise Models of Grid Stability.'](https://dbis.ipd.kit.edu/download/DSGC_simulations.pdf) Communications, Control, and Computing Technologies for Smart Grids (SmartGridComm), 2018 IEEE International Conference on. IEEE, 2018 \n",
    "\n",
    "*Note that, in many engineering applications such datasets can be generated through simulations (easy) or experimentation (harder). Different from classical ML applications, engineers often have a very good understanding of the underlying physical models, which gives a unique advantage. We will, however, keep it simple in this workshop and use the dataset as is.*\n",
    "\n",
    "Let's load and process the dataset."
   ]
  },
  {
   "cell_type": "code",
   "execution_count": null,
   "metadata": {
    "ExecuteTime": {
     "end_time": "2019-03-25T02:47:20.848060Z",
     "start_time": "2019-03-25T02:47:20.797114Z"
    },
    "collapsed": true
   },
   "outputs": [],
   "source": [
    "griddata=pd.read_csv('files/Data_for_UCI_named.csv')\n",
    "griddata.head()"
   ]
  },
  {
   "cell_type": "code",
   "execution_count": null,
   "metadata": {
    "ExecuteTime": {
     "end_time": "2019-03-25T02:47:21.806558Z",
     "start_time": "2019-03-25T02:47:21.790634Z"
    },
    "collapsed": true
   },
   "outputs": [],
   "source": [
    "Xgrid = griddata.iloc[:, 0:13]\n",
    "Xgrid.head()"
   ]
  },
  {
   "cell_type": "code",
   "execution_count": null,
   "metadata": {
    "ExecuteTime": {
     "end_time": "2019-03-25T02:47:22.521559Z",
     "start_time": "2019-03-25T02:47:22.509772Z"
    },
    "collapsed": true
   },
   "outputs": [],
   "source": [
    "ygrid = griddata.iloc[:, 13]\n",
    "# 0 if unstable and 1 if stable\n",
    "ygrid = [ 0 if x=='unstable' else 1 for x in ygrid]\n",
    "\n",
    "print(\"prepared data: \",Xgrid[0:5], ygrid[0:5])"
   ]
  },
  {
   "cell_type": "markdown",
   "metadata": {},
   "source": [
    "### Question 5.3.  Checking Grid Stability using Logistic Regression (LR)  (6 pts)\n",
    "\n",
    "Now, we can use the simulated dataset *(Xgrid,ygrid)* to check grid stability. We will use first logistic regression for this purpose. Unfortunately, it is not possible to directly visualise this dataset, so we have to use performance metrics.\n",
    "\n",
    "1. (1 pt) Preprocess and normalise *Xgrid* using a [*sklearn.preprocessing*](https://scikit-learn.org/stable/modules/classes.html#module-sklearn.preprocessing). You can use, for example, *StandardScaler* or *MinMaxScaler*.\n",
    "2. (2 pts) Train a logistic regression model that classifies the grid as stable or not, based on input *Xgrid*. Don't forget to divide *Xgrid* into training and test sets. Quantify the performance of LR using standard metrics such as accuracy, precision, recall, and f1 score on the test set. Plot the [ROC curve](https://scikit-learn.org/stable/modules/classes.html#module-sklearn.metrics). How do these change w.r.t. [parameter C](https://scikit-learn.org/stable/modules/linear_model.html#logistic-regression)? Discuss your observations.\n",
    "3. (2 pts) What are the coefficients of the LR that you trained? What do they tell you about the impact of independent input variables on the dependent output variable *ygrid*? Discuss. *Hint: you can use [regressors package](https://regressors.readthedocs.io/en/latest/index.html) stats function to calculate p-values. See, e.g. [this](http://www.r-tutor.com/elementary-statistics/logistic-regression/significance-test-logistic-regression) or [this](http://blog.minitab.com/blog/adventures-in-statistics-2/how-to-interpret-regression-analysis-results-p-values-and-coefficients) for info.* \n",
    "4. (1 pts) Use a nonlinear SVM, e.g. with rbf kernel, to solve the problem. Quantify the performance of SVM classifier and compare with LR one. Discuss your findings."
   ]
  },
  {
   "cell_type": "markdown",
   "metadata": {},
   "source": [
    "**Answer as text here**"
   ]
  },
  {
   "cell_type": "code",
   "execution_count": null,
   "metadata": {
    "collapsed": true
   },
   "outputs": [],
   "source": [
    "#Q5.3.1\n",
    "from sklearn.preprocessing import StandardScaler\n",
    "scaler = StandardScaler().fit(Xgrid)\n",
    "Xnorm = scaler.transform(Xgrid)\n",
    "print('Mean : %2s, \\nX_norm:\\n %2s'%(scaler.mean_,Xnorm))\n"
   ]
  },
  {
   "cell_type": "code",
   "execution_count": null,
   "metadata": {
    "collapsed": true
   },
   "outputs": [],
   "source": [
    "#Q5.3.2&5.3.3\n",
    "from sklearn.model_selection import train_test_split\n",
    "from sklearn.svm import l1_min_c\n",
    "\n",
    "Xgrid_train, Xgrid_test, ygrid_train, ygrid_test = train_test_split(Xnorm, ygrid)\n",
    "cval = l1_min_c(Xgrid_train,ygrid_train,loss = 'log')\n",
    "print('C_value is %2s.'%(cval))\n",
    "\n",
    "\n",
    "LR_5 = LogisticRegression(C=cval,penalty='l1').fit(Xgrid_train,ygrid_train)\n",
    "ygrid_pred = LR_5.predict(Xgrid_test)\n",
    "F,T,thre = metrics.roc_curve(ygrid_test,ygrid_pred,pos_label =1)\n",
    "print('\\n%2s\\n%2s\\n%2s'%(F,T,thre))\n",
    "print(F>=thre,T>=thre)\n",
    "print('\\nClass: %2s\\nCoefficient: %2s\\nIntercept: %2s'%(LR_5.classes_,LR_5.coef_ ,LR_5.intercept_ )) \n"
   ]
  },
  {
   "cell_type": "markdown",
   "metadata": {},
   "source": [
    "**They are independent random variables**"
   ]
  },
  {
   "cell_type": "markdown",
   "metadata": {},
   "source": [
    "## 6 (_Optional_ Bonus, 10 pts) Communications Detective \n",
    "\n",
    "Your job as a detective is to distinguish malicious people's communications from background civilian communication traffic. As a 21st century detective, you have access to a cognitive radio network and you have ML knowledge!\n",
    "\n",
    "The [dataset](files/svm_bonus_data.csv) is collected from a simulation where there are multiple malicious people and civilians communicating in a region with multiple passive cognitive radio nodes.\n",
    "Data about each transmission source is collected from the listener nearest to it. The objective is to classify if a transmission source is an rogue agent or a civilian based on the data.\n",
    "\n",
    "<img align=\"left\" src=\"img/detective.png\" width=\"200\" hspace=\"20\"/>      <img align=\"center\" src=\"img/omnet.png\" width=\"400\" hspace=\"20\"/>\n",
    "\n",
    "The data file contains data from 2 classes:\n",
    " * civilians - 129 instances (labeled as +1)\n",
    " * rogue agents - 129 instances (labeled as -1)\n",
    "\n",
    "**Features/attributes** are **not** normalised.\n",
    "1. label 2. carrier_frequency 2. bandwidth 3. bitrate 4. session duration 5. message_length 6. inter-arrival time (iat)\n",
    "\n",
    "For full bonus points:\n",
    "1. Normalise and investigate the data, try e.g. PCA.\n",
    "2. Try multiple classifiers, e.g. SVM and logistic regression, find their hyper-parameters.\n",
    "3. Do cross validation, give performance results using metrics, compare/contrast methods.\n",
    "4. Discuss your findings based on your theoretical/practical knowledge."
   ]
  },
  {
   "cell_type": "code",
   "execution_count": null,
   "metadata": {
    "ExecuteTime": {
     "end_time": "2019-03-25T02:53:37.258766Z",
     "start_time": "2019-03-25T02:53:37.241750Z"
    },
    "collapsed": true
   },
   "outputs": [],
   "source": [
    "commdata=pd.read_csv('files/svm_bonus_data.csv')\n",
    "commdata.head()"
   ]
  },
  {
   "cell_type": "markdown",
   "metadata": {},
   "source": [
    "# <font color='red'> Workshop Report Submission Instructions </font>\n",
    "\n",
    "_You should ideally complete the workshop tasks and answer the questions within the respective session!_ The submission deadline is usually Friday, the week after. Submission deadlines will be announced on LMS.\n",
    "\n",
    "It is **mandatory to follow all of the submissions guidelines** given below. _Don't forget the Report submission information on top of this notebook!_\n",
    "\n",
    "1. The completed Jupyter notebook and its Pdf version (you can simply print-preview and then print as pdf from within your browser) should be uploaded to the right place in LMS by the announced deadline. _It is your responsibility to follow the announcements!_ **Late submissions will be penalised (up to 100% of the total mark depending on delay amount)!**\n",
    "2. Filename should be “ELEN90061 Workshop **W: StudentID1-StudentID2** of session **Day-Time**\", where **W** refers to the workshop number, **StudentID1-StudentID2** are your student numbers, **Day-Time** is your session day and time, e.g. *Tue-14*.\n",
    "3. Answers to questions, simulation results and diagrams should be included in the Jupyter notebook as text, code, plots. *If you don't know latex, you can write formulas/text to a paper by hand, scan it and then include as image within Markdown cells.*\n",
    "4. One report submission per group. \n",
    "\n",
    "### Additional guidelines for your programs:\n",
    "\n",
    "* Write modular code using functions. \n",
    "* Properly indent your code. But Python forces you do that anyway ;)\n",
    "* Heavily comment the code to describe your implementation and to show your understanding. No comments, no credit!\n",
    "* Make the code your own! It is encouraged to find and get inspired by online examples but you should exactly understand, modify as needed, and explain your code via comments. There will be no credit for blind copy/paste even if it somehow works (and it is easier to detect it than you might think)!"
   ]
  }
 ],
 "metadata": {
  "kernelspec": {
   "display_name": "Python 3",
   "language": "python",
   "name": "python3"
  },
  "language_info": {
   "codemirror_mode": {
    "name": "ipython",
    "version": 3
   },
   "file_extension": ".py",
   "mimetype": "text/x-python",
   "name": "python",
   "nbconvert_exporter": "python",
   "pygments_lexer": "ipython3",
   "version": "3.7.3"
  }
 },
 "nbformat": 4,
 "nbformat_minor": 2
}
